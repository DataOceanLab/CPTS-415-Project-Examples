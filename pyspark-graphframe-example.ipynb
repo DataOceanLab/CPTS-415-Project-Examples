{
 "cells": [
  {
   "cell_type": "markdown",
   "id": "6e5fd8ff",
   "metadata": {},
   "source": [
    "# PySpark GraphFrame example\n",
    "\n",
    "GraphFrame tutorials: https://graphframes.github.io/graphframes/docs/_site/user-guide.html\n",
    "\n",
    "## Important notes\n",
    "\n",
    "Make sure you run the following commands in your terminal to set up environment variables before start `jupyter-notebook --no-browser`. If you didn't do it, please kill your notebook in the termnal, run the commands and restart your notebook.\n",
    "\n",
    "The first two are Spark paths. The last one is Python3 path.\n",
    "\n",
    "```\n",
    "export SPARK_HOME=/home/ubuntu/spark-3.0.3-bin-hadoop3.2\n",
    "export PYTHONPATH=/home/ubuntu/spark-3.0.3-bin-hadoop3.2/PYTHON\n",
    "export PYSPARK_PYTHON=/usr/bin/python3\n",
    "```\n",
    "\n",
    "**Your machine might have different Spark paths depending on your OS username and Spark location. Do NOT just copy/paste it blindly.**\n",
    "\n",
    "**Your machine might have a different Python 3 path. You can find your Python3 path using `whereis python3` in the terminal. Usually the first one is the one you want.**"
   ]
  },
  {
   "cell_type": "markdown",
   "id": "c8467549",
   "metadata": {},
   "source": [
    "## Create Spark Session"
   ]
  },
  {
   "cell_type": "code",
   "execution_count": 6,
   "id": "d66a2a81",
   "metadata": {},
   "outputs": [],
   "source": [
    "from pyspark.sql import SparkSession\n",
    "\n",
    "spark = SparkSession \\\n",
    "    .builder \\\n",
    "    .master(\"local[*]\")\\\n",
    "    .appName(\"Python Spark GraphFrame example\") \\\n",
    "    .config(\"spark.jars.packages\", \"graphframes:graphframes:0.8.1-spark3.0-s_2.12\") \\\n",
    "    .getOrCreate()"
   ]
  },
  {
   "cell_type": "markdown",
   "id": "b08f7c8a",
   "metadata": {},
   "source": [
    "## Cluster mode and pseudo mode\n",
    "\n",
    "local[*] means pseudo mode with all available CPU cores.\n",
    "\n",
    "You can use spark://IP-address , the URL you find from Spark web ui\n",
    "to enable cluster mode, such as spark://JIAYU1AB6.localdomain:7077\n",
    "\n",
    "The notebook under the cluster mode will distribute the computation tasks to your Spark cluster.\n",
    "\n",
    "Make sure you shutdown and restart this notebook when switch mode"
   ]
  },
  {
   "cell_type": "markdown",
   "id": "401653e4",
   "metadata": {},
   "source": [
    "## Create a GraphFrame\n",
    "\n",
    "A GraphFrame = A DataFrame of vertexes + a DataFrame of edges\n",
    "\n",
    "### Download users.csv to your local path\n",
    "\n",
    "Ubuntu\n",
    "```wget https://raw.githubusercontent.com/DataOceanLab/CPTS-415-Project-Examples/main/users.csv```\n",
    "\n",
    "MacOS\n",
    "```curl -O https://raw.githubusercontent.com/DataOceanLab/CPTS-415-Project-Examples/main/users.csv```\n",
    "\n",
    "### Download relationships.csv to your local path\n",
    "\n",
    "Ubuntu\n",
    "```wget https://raw.githubusercontent.com/DataOceanLab/CPTS-415-Project-Examples/main/relationships.csv```\n",
    "\n",
    "MacOS\n",
    "```curl -O https://raw.githubusercontent.com/DataOceanLab/CPTS-415-Project-Examples/main/relationships.csv```"
   ]
  },
  {
   "cell_type": "code",
   "execution_count": 2,
   "id": "9f858801",
   "metadata": {},
   "outputs": [
    {
     "name": "stdout",
     "output_type": "stream",
     "text": [
      "+---+-------+---+\n",
      "| id|   name|age|\n",
      "+---+-------+---+\n",
      "|  a|  Alice| 34|\n",
      "|  b|    Bob| 36|\n",
      "|  c|Charlie| 30|\n",
      "+---+-------+---+\n",
      "\n",
      "+---+---+------------+\n",
      "|src|dst|relationship|\n",
      "+---+---+------------+\n",
      "|  a|  b|      friend|\n",
      "|  b|  c|      follow|\n",
      "|  c|  b|      follow|\n",
      "+---+---+------------+\n",
      "\n",
      "+---+-------+---+\n",
      "| id|   name|age|\n",
      "+---+-------+---+\n",
      "|  a|  Alice| 34|\n",
      "|  b|    Bob| 36|\n",
      "|  c|Charlie| 30|\n",
      "+---+-------+---+\n",
      "\n",
      "+---+---+------------+\n",
      "|src|dst|relationship|\n",
      "+---+---+------------+\n",
      "|  a|  b|      friend|\n",
      "|  b|  c|      follow|\n",
      "|  c|  b|      follow|\n",
      "+---+---+------------+\n",
      "\n"
     ]
    }
   ],
   "source": [
    "# Create a Vertex DataFrame with unique ID column \"id\"\n",
    "v = spark.read.option(\"inferSchema\", \"true\").option(\"delimiter\", \",\").option(\"header\", \"true\").csv(\"users.csv\")\n",
    "v.show()\n",
    "\n",
    "# Create an Edge DataFrame with \"src\" and \"dst\" columns\n",
    "e = spark.read.option(\"inferSchema\", \"true\").option(\"delimiter\", \",\").option(\"header\", \"true\").csv(\"relationships.csv\")\n",
    "e.show()\n",
    "\n",
    "# Create a GraphFrame\n",
    "from graphframes import *\n",
    "g = GraphFrame(v, e)\n",
    "\n",
    "g.vertices.show()\n",
    "g.edges.show()"
   ]
  },
  {
   "cell_type": "markdown",
   "id": "ada43691",
   "metadata": {},
   "source": [
    "## Get degree statistics of each vertex"
   ]
  },
  {
   "cell_type": "code",
   "execution_count": 3,
   "id": "723704a4",
   "metadata": {},
   "outputs": [
    {
     "name": "stdout",
     "output_type": "stream",
     "text": [
      "+---+--------+\n",
      "| id|inDegree|\n",
      "+---+--------+\n",
      "|  c|       1|\n",
      "|  b|       2|\n",
      "+---+--------+\n",
      "\n",
      "+---+---------+\n",
      "| id|outDegree|\n",
      "+---+---------+\n",
      "|  c|        1|\n",
      "|  b|        1|\n",
      "|  a|        1|\n",
      "+---+---------+\n",
      "\n",
      "+---+------+\n",
      "| id|degree|\n",
      "+---+------+\n",
      "|  c|     2|\n",
      "|  b|     3|\n",
      "|  a|     1|\n",
      "+---+------+\n",
      "\n"
     ]
    },
    {
     "name": "stderr",
     "output_type": "stream",
     "text": [
      "[Stage 39:==============================================>       (171 + 4) / 200]\r"
     ]
    },
    {
     "name": "stdout",
     "output_type": "stream",
     "text": [
      "+-----------+\n",
      "|max(degree)|\n",
      "+-----------+\n",
      "|          3|\n",
      "+-----------+\n",
      "\n"
     ]
    },
    {
     "name": "stderr",
     "output_type": "stream",
     "text": [
      "\r",
      "                                                                                \r"
     ]
    }
   ],
   "source": [
    "# Query: Get in-degree of each vertex.\n",
    "g.inDegrees.show()\n",
    "\n",
    "# Query: Get out-degree of each vertex.\n",
    "g.outDegrees.show()\n",
    "\n",
    "# Query: Get degree of each vertex\n",
    "g.degrees.show()\n",
    "\n",
    "# Query: Get the max degree among all vertexes\n",
    "g.degrees.agg({'degree': 'max'}).show()"
   ]
  },
  {
   "cell_type": "markdown",
   "id": "b6951b71",
   "metadata": {},
   "source": [
    "## Query: Count the number of \"follow\" connections in the graph."
   ]
  },
  {
   "cell_type": "code",
   "execution_count": 4,
   "id": "9a5658e8",
   "metadata": {},
   "outputs": [
    {
     "data": {
      "text/plain": [
       "2"
      ]
     },
     "execution_count": 4,
     "metadata": {},
     "output_type": "execute_result"
    }
   ],
   "source": [
    "g.edges.filter(\"relationship = 'follow'\").count()"
   ]
  },
  {
   "cell_type": "markdown",
   "id": "ec5ac680",
   "metadata": {},
   "source": [
    "## Run PageRank algorithm, and show results."
   ]
  },
  {
   "cell_type": "code",
   "execution_count": 5,
   "id": "77713cba",
   "metadata": {},
   "outputs": [
    {
     "name": "stderr",
     "output_type": "stream",
     "text": [
      "                                                                                \r"
     ]
    },
    {
     "name": "stdout",
     "output_type": "stream",
     "text": [
      "+---+--------+\n",
      "| id|pagerank|\n",
      "+---+--------+\n",
      "|  a|    0.01|\n",
      "|  b|1.980199|\n",
      "|  c|1.009801|\n",
      "+---+--------+\n",
      "\n"
     ]
    }
   ],
   "source": [
    "results = g.pageRank(resetProbability=0.01, maxIter=3)\n",
    "results.vertices.select(\"id\", \"pagerank\").show()"
   ]
  },
  {
   "cell_type": "code",
   "execution_count": null,
   "id": "2059a55f",
   "metadata": {},
   "outputs": [],
   "source": []
  }
 ],
 "metadata": {
  "kernelspec": {
   "display_name": "Python 3 (ipykernel)",
   "language": "python",
   "name": "python3"
  },
  "language_info": {
   "codemirror_mode": {
    "name": "ipython",
    "version": 3
   },
   "file_extension": ".py",
   "mimetype": "text/x-python",
   "name": "python",
   "nbconvert_exporter": "python",
   "pygments_lexer": "ipython3",
   "version": "3.8.10"
  }
 },
 "nbformat": 4,
 "nbformat_minor": 5
}
